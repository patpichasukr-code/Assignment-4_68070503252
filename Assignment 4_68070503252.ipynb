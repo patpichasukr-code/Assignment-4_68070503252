{
 "cells": [
  {
   "cell_type": "code",
   "execution_count": 1,
   "id": "3e268a0a",
   "metadata": {},
   "outputs": [
    {
     "name": "stdout",
     "output_type": "stream",
     "text": [
      "0 is even\n",
      "1 is odd\n",
      "2 is even\n",
      "3 is odd\n",
      "4 is even\n",
      "5 is odd\n"
     ]
    }
   ],
   "source": [
    "for n in range(0,6):\n",
    "    if n%2 ==0:\n",
    "        print (n, \"is even\")\n",
    "    else:\n",
    "        print(n, \"is odd\")"
   ]
  },
  {
   "cell_type": "code",
   "execution_count": 10,
   "id": "53a3417d",
   "metadata": {},
   "outputs": [
    {
     "name": "stdout",
     "output_type": "stream",
     "text": [
      "The result is large\n",
      "The result is large\n",
      "The result is large\n",
      "The result is large\n",
      "The result is large\n",
      "The result is large\n",
      "The result is large\n",
      "The result is large\n",
      "The result is large\n",
      "The result is large\n"
     ]
    }
   ],
   "source": [
    "n=100\n",
    "for i in range(1,11):\n",
    "    if n/i>5:\n",
    "        print (\"The result is large\")\n",
    "    elif n/i==6:\n",
    "        continue\n",
    "    else: \n",
    "        print (\"quotient=\", quotient)\n"
   ]
  },
  {
   "cell_type": "code",
   "execution_count": null,
   "id": "d01181d8",
   "metadata": {},
   "outputs": [],
   "source": [
    "credentials={\"user1\":\"abc123\",\"admin\":\"adminpass\",\"guest\":\"guest123\"}\n",
    "username = input(\"Enter username\")\n",
    "password = input(\"Enter password\")\n",
    "if username in credentials:\n",
    "    if credentials[username] == password:\n",
    "        print (\"Login sucessful\")\n",
    "    else:\n",
    "        print(\"Incorrect password\")\n",
    "else:\n",
    "    print(\"Username not found\")"
   ]
  },
  {
   "cell_type": "code",
   "execution_count": 3,
   "id": "e2172dd2",
   "metadata": {},
   "outputs": [
    {
     "name": "stdout",
     "output_type": "stream",
     "text": [
      "* \n",
      "* * \n",
      "* * * \n",
      "* * * * \n",
      "* * * * * \n"
     ]
    }
   ],
   "source": [
    "rows =5 \n",
    "for i in range(1, rows+1):\n",
    "    for j in range(1, i+1):\n",
    "        print(\"*\", end=\" \")\n",
    "    print() \n",
    "    "
   ]
  },
  {
   "cell_type": "code",
   "execution_count": null,
   "id": "d16624bb",
   "metadata": {},
   "outputs": [
    {
     "name": "stdout",
     "output_type": "stream",
     "text": [
      "limit reached.You cannot buy anymore\n"
     ]
    }
   ],
   "source": [
    "bill = 0\n",
    "while bill<=1000:\n",
    "    price = float(input('Enter price of the item'))\n",
    "    bill=+price\n",
    "    if bill>= 1000:\n",
    "        print(\"limit reached.You cannot buy anymore\")\n",
    "    else:\n",
    "        print(\"add price\")"
   ]
  }
 ],
 "metadata": {
  "kernelspec": {
   "display_name": "Python 3",
   "language": "python",
   "name": "python3"
  },
  "language_info": {
   "codemirror_mode": {
    "name": "ipython",
    "version": 3
   },
   "file_extension": ".py",
   "mimetype": "text/x-python",
   "name": "python",
   "nbconvert_exporter": "python",
   "pygments_lexer": "ipython3",
   "version": "3.11.9"
  }
 },
 "nbformat": 4,
 "nbformat_minor": 5
}
